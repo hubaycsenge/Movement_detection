{
 "cells": [
  {
   "cell_type": "code",
   "execution_count": 17,
   "metadata": {},
   "outputs": [],
   "source": [
    "from custom_losses import dice,IoULoss\n",
    "from BIP_methods import *\n",
    "from eval_tools import *\n",
    "from data_tools import *\n",
    "from seq_net import *\n",
    "from unet import UNet\n",
    "\n",
    "\n",
    "import cv2\n",
    "import json\n",
    "import math\n",
    "import torch.nn as nn\n",
    "import seaborn as sns\n",
    "import matplotlib.pyplot as plt\n",
    "import torchvision.transforms as transforms"
   ]
  },
  {
   "cell_type": "code",
   "execution_count": 18,
   "metadata": {},
   "outputs": [
    {
     "data": {
      "text/plain": [
       "'os.environ[\"CUDA_VISIBLE_DEVICES\"] = \"0\" \\ntorch.set_default_tensor_type(\\'torch.cuda.FloatTensor\\')\\ndevice = torch.device(\"cuda:0\")'"
      ]
     },
     "execution_count": 18,
     "metadata": {},
     "output_type": "execute_result"
    }
   ],
   "source": [
    "'''os.environ[\"CUDA_VISIBLE_DEVICES\"] = \"0\" \n",
    "torch.set_default_tensor_type('torch.cuda.FloatTensor')\n",
    "device = torch.device(\"cuda:0\")'''"
   ]
  },
  {
   "cell_type": "code",
   "execution_count": 19,
   "metadata": {},
   "outputs": [],
   "source": [
    "device = torch.device(\"cpu\")"
   ]
  },
  {
   "cell_type": "code",
   "execution_count": 20,
   "metadata": {},
   "outputs": [],
   "source": [
    "test_json = json.load(open('test.json'))\n",
    "folder = '/mnt/LAIN_EXTERNAL2/waterpolo_anyagok/vizilabda_meccsek/frames'\n",
    "criterion = IoULoss()"
   ]
  },
  {
   "cell_type": "markdown",
   "metadata": {},
   "source": [
    "# Evaluation of kmeans method"
   ]
  },
  {
   "cell_type": "code",
   "execution_count": 21,
   "metadata": {},
   "outputs": [
    {
     "name": "stderr",
     "output_type": "stream",
     "text": [
      "/home/csenge/.local/lib/python3.7/site-packages/torch/nn/functional.py:1805: UserWarning: nn.functional.sigmoid is deprecated. Use torch.sigmoid instead.\n",
      "  warnings.warn(\"nn.functional.sigmoid is deprecated. Use torch.sigmoid instead.\")\n"
     ]
    },
    {
     "name": "stdout",
     "output_type": "stream",
     "text": [
      "Checkpoint 0\n",
      "Checkpoint 10\n",
      "Checkpoint 20\n",
      "Checkpoint 30\n",
      "Checkpoint 40\n",
      "Checkpoint 50\n",
      "Checkpoint 60\n",
      "Checkpoint 70\n",
      "Checkpoint 80\n",
      "Checkpoint 90\n",
      "Checkpoint 100\n",
      "Checkpoint 110\n",
      "Checkpoint 120\n",
      "Checkpoint 130\n",
      "Checkpoint 140\n",
      "0.40934244290689664\n"
     ]
    }
   ],
   "source": [
    "test_ds = dataset_with_mask(folder,test_json)\n",
    "test_iterator = data.DataLoader(test_ds, \n",
    "                                batch_size = 8)\n",
    "counter = 0\n",
    "'''avg_tp_pixels = 0\n",
    "avg_tn_pixels = 0\n",
    "avg_fp_pixels = 0\n",
    "avg_fn_pixels = 0\n",
    "avg_f1 = 0\n",
    "avg_acc = 0\n",
    "avg_positive_pixels = 0\n",
    "avg_negative_pixels = 0'''\n",
    "avg_IoU = 0\n",
    "\n",
    "for i, d in enumerate(test_iterator, 0):\n",
    "    inputs, labels,fnames = d[0].cpu(), d[1].cpu(),d[2]\n",
    "    for j in range(len(inputs)):\n",
    "        inp = np.transpose(inputs[j][:][:][:],(1,2,0)).detach().numpy()\n",
    "        output_kmean = kmean_process((inp*255).astype(np.uint8))\n",
    "        mask = kmean_to_mask(output_kmean).astype(np.float)/255\n",
    "        mask = circularity(mask,th = 0.05)\n",
    "        mask =  transforms.functional.to_tensor(mask)\n",
    "        IoU = criterion(labels[j][:][:][:],mask)\n",
    "        if not math.isnan(IoU.item()):\n",
    "            avg_IoU += IoU.item()\n",
    "            counter += 1\n",
    "        '''f1_loc = f1(labels[j][:][:][:],mask)\n",
    "        tp_loc = tp_pixels(labels[j][0][:][:],mask).item()\n",
    "        tn_loc = tn_pixels(labels[j][0][:][:],mask).item()\n",
    "        fp_loc = fp_pixels(labels[j][0][:][:],mask).item()\n",
    "        fn_loc = fn_pixels(labels[j][0][:][:],mask).item()\n",
    "        acc_loc = (tp_loc + tn_loc)/(tp_loc + tn_loc + fp_loc + fn_loc)\n",
    "        if not math.isnan(f1_loc) and not math.isnan(acc_loc): \n",
    "            avg_acc += acc_loc\n",
    "            avg_f1 += f1_loc\n",
    "            avg_tp_pixels += tp_loc\n",
    "            avg_fp_pixels += fp_loc\n",
    "            avg_tn_pixels += tn_loc\n",
    "            avg_fn_pixels += fn_loc\n",
    "            counter += 1 \n",
    "            avg_positive_pixels += torch.count_nonzero(labels[j][0][:][:])\n",
    "            avg_negative_pixels += (129600 - torch.count_nonzero(labels[j][0][:][:]))'''\n",
    "        \n",
    "        \n",
    "    if i%10 == 0:\n",
    "        print(\"Checkpoint\",i)\n",
    "        \n",
    "        \n",
    "'''avg_acc = avg_acc/counter        \n",
    "avg_f1 = avg_f1/counter\n",
    "avg_tp_pixels = avg_tp_pixels/counter\n",
    "avg_fp_pixels = avg_fp_pixels/counter\n",
    "avg_tn_pixels = avg_tn_pixels/counter\n",
    "avg_fn_pixels = avg_fn_pixels/counter\n",
    "avg_positive_pixels =avg_positive_pixels/counter\n",
    "avg_negative_pixels = avg_negative_pixels/counter\n",
    "print(avg_tp_pixels,avg_fp_pixels,avg_tn_pixels,avg_fn_pixels)\n",
    "print(avg_acc,avg_f1)'''\n",
    "avg_IoU = avg_IoU/counter\n",
    "print(avg_IoU)"
   ]
  },
  {
   "cell_type": "code",
   "execution_count": 11,
   "metadata": {},
   "outputs": [
    {
     "name": "stdout",
     "output_type": "stream",
     "text": [
      "tensor(140.1377, device='cpu') tensor(129459.8516, device='cpu')\n"
     ]
    }
   ],
   "source": [
    "print(avg_positive_pixels,avg_negative_pixels)"
   ]
  },
  {
   "cell_type": "code",
   "execution_count": 7,
   "metadata": {},
   "outputs": [
    {
     "name": "stderr",
     "output_type": "stream",
     "text": [
      "/opt/conda/envs/lain_new/lib/python3.7/site-packages/ipykernel_launcher.py:6: MatplotlibDeprecationWarning: Case-insensitive properties were deprecated in 3.3 and support will be removed two minor releases later\n",
      "  \n",
      "/opt/conda/envs/lain_new/lib/python3.7/site-packages/ipykernel_launcher.py:12: MatplotlibDeprecationWarning: Case-insensitive properties were deprecated in 3.3 and support will be removed two minor releases later\n",
      "  if sys.path[0] == '':\n"
     ]
    },
    {
     "name": "stdout",
     "output_type": "stream",
     "text": [
      "0.9921488009696754 0.0015488002695039846\n"
     ]
    },
    {
     "data": {
      "image/png": "[encoded data removed]",
      "text/plain": [
       "<Figure size 576x576 with 2 Axes>"
      ]
     },
     "metadata": {
      "needs_background": "light"
     },
     "output_type": "display_data"
    },
    {
     "data": {
      "image/png": "[encoded data removed]",
      "text/plain": [
       "<Figure size 576x576 with 2 Axes>"
      ]
     },
     "metadata": {
      "needs_background": "light"
     },
     "output_type": "display_data"
    }
   ],
   "source": [
    "anp = avg_tp_pixels+avg_fp_pixels+avg_tn_pixels+avg_fn_pixels\n",
    "CM = [[round(avg_tn_pixels/avg_negative_pixels.item(),2),round(avg_fp_pixels/avg_negative_pixels.item(),2)],[round(avg_fn_pixels/avg_positive_pixels.item(),2),round(avg_tp_pixels/avg_positive_pixels.item(),2)]]\n",
    "X_labels = ['Predicted empty', 'Predicted ball']\n",
    "Y_labels = ['Ground truth empty', 'Ground truth ball']\n",
    "plt.figure(figsize = (8,8))\n",
    "sns.heatmap(CM,xticklabels=X_labels, yticklabels=Y_labels,annot=True).set(Title = 'Corrected confusion matrix,basic image processing methods')\n",
    "\n",
    "CM = [[round(avg_tn_pixels/anp,2),round(avg_fp_pixels/anp,2)],[round(avg_fn_pixels/anp,2),round(avg_tp_pixels/anp,2)]]\n",
    "X_labels = ['Predicted empty', 'Predicted ball']\n",
    "Y_labels = ['Ground truth empty', 'Ground truth ball']\n",
    "plt.figure(figsize = (8,8))\n",
    "sns.heatmap(CM,xticklabels=X_labels, yticklabels=Y_labels,annot=True).set(Title = 'Confusion matrix,basic image processing methods')\n",
    "print(avg_acc,avg_f1)"
   ]
  },
  {
   "cell_type": "markdown",
   "metadata": {},
   "source": [
    "# Evaluation of the sequential network"
   ]
  },
  {
   "cell_type": "code",
   "execution_count": null,
   "metadata": {},
   "outputs": [],
   "source": [
    "test_ds = dataset_with_corners(folder,test_json)\n",
    "test_iterator = data.DataLoader(test_ds, \n",
    "                                batch_size = 8)\n",
    "\n",
    "#criterion = nn.SmoothL1Loss().to(device)\n",
    "criterion = IoULoss()\n",
    "model = seq_model.to('cpu')\n",
    "optimizer = optim.Adagrad(model.parameters(),lr=0.0005)\n",
    "\n",
    "model.load_state_dict(torch.load('top_results/flattened_model_net_epoch58_loss=0.013814487727100925.pt'))\n",
    "model.to('cpu')\n",
    "model.eval()"
   ]
  },
  {
   "cell_type": "code",
   "execution_count": 22,
   "metadata": {},
   "outputs": [
    {
     "ename": "IndexError",
     "evalue": "index 1 is out of bounds for dimension 0 with size 1",
     "output_type": "error",
     "traceback": [
      "\u001b[0;31m---------------------------------------------------------------------------\u001b[0m",
      "\u001b[0;31mIndexError\u001b[0m                                Traceback (most recent call last)",
      "\u001b[0;32m<ipython-input-22-3f466af75b87>\u001b[0m in \u001b[0;36m<module>\u001b[0;34m\u001b[0m\n\u001b[1;32m     13\u001b[0m     \u001b[0minputs\u001b[0m\u001b[0;34m,\u001b[0m \u001b[0mlabels\u001b[0m\u001b[0;34m,\u001b[0m\u001b[0mfnames\u001b[0m \u001b[0;34m=\u001b[0m \u001b[0md\u001b[0m\u001b[0;34m[\u001b[0m\u001b[0;36m0\u001b[0m\u001b[0;34m]\u001b[0m\u001b[0;34m.\u001b[0m\u001b[0mcpu\u001b[0m\u001b[0;34m(\u001b[0m\u001b[0;34m)\u001b[0m\u001b[0;34m,\u001b[0m \u001b[0md\u001b[0m\u001b[0;34m[\u001b[0m\u001b[0;36m1\u001b[0m\u001b[0;34m]\u001b[0m\u001b[0;34m.\u001b[0m\u001b[0mcpu\u001b[0m\u001b[0;34m(\u001b[0m\u001b[0;34m)\u001b[0m\u001b[0;34m,\u001b[0m\u001b[0md\u001b[0m\u001b[0;34m[\u001b[0m\u001b[0;36m2\u001b[0m\u001b[0;34m]\u001b[0m\u001b[0;34m\u001b[0m\u001b[0;34m\u001b[0m\u001b[0m\n\u001b[1;32m     14\u001b[0m     \u001b[0moutputs\u001b[0m \u001b[0;34m=\u001b[0m \u001b[0mmodel\u001b[0m\u001b[0;34m(\u001b[0m\u001b[0minputs\u001b[0m\u001b[0;34m)\u001b[0m\u001b[0;34m\u001b[0m\u001b[0;34m\u001b[0m\u001b[0m\n\u001b[0;32m---> 15\u001b[0;31m     \u001b[0moutputs\u001b[0m \u001b[0;34m=\u001b[0m \u001b[0mBbox_to_arr\u001b[0m\u001b[0;34m(\u001b[0m\u001b[0moutputs\u001b[0m\u001b[0;34m)\u001b[0m\u001b[0;34m.\u001b[0m\u001b[0mcpu\u001b[0m\u001b[0;34m(\u001b[0m\u001b[0;34m)\u001b[0m\u001b[0;34m\u001b[0m\u001b[0;34m\u001b[0m\u001b[0m\n\u001b[0m\u001b[1;32m     16\u001b[0m     \u001b[0mlabels\u001b[0m \u001b[0;34m=\u001b[0m \u001b[0mBbox_to_arr\u001b[0m\u001b[0;34m(\u001b[0m\u001b[0mlabels\u001b[0m\u001b[0;34m)\u001b[0m\u001b[0;34m.\u001b[0m\u001b[0mcpu\u001b[0m\u001b[0;34m(\u001b[0m\u001b[0;34m)\u001b[0m\u001b[0;34m\u001b[0m\u001b[0;34m\u001b[0m\u001b[0m\n\u001b[1;32m     17\u001b[0m     \u001b[0;31m#print(np.amin(outputs.cpu().detach().numpy()),np.amin(labels.cpu().detach().numpy()))\u001b[0m\u001b[0;34m\u001b[0m\u001b[0;34m\u001b[0m\u001b[0;34m\u001b[0m\u001b[0m\n",
      "\u001b[0;32m/mnt/LAIN_DATA/osc_api/jupyter/ball_detection/gitre fel/eval_tools.py\u001b[0m in \u001b[0;36mBbox_to_arr\u001b[0;34m(bbox, eval_mode)\u001b[0m\n\u001b[1;32m     21\u001b[0m         \u001b[0;32mfor\u001b[0m \u001b[0mi\u001b[0m \u001b[0;32min\u001b[0m \u001b[0mrange\u001b[0m\u001b[0;34m(\u001b[0m\u001b[0;36m8\u001b[0m\u001b[0;34m)\u001b[0m\u001b[0;34m:\u001b[0m\u001b[0;34m\u001b[0m\u001b[0;34m\u001b[0m\u001b[0m\n\u001b[1;32m     22\u001b[0m             \u001b[0marr\u001b[0m \u001b[0;34m=\u001b[0m \u001b[0mnp\u001b[0m\u001b[0;34m.\u001b[0m\u001b[0mzeros\u001b[0m\u001b[0;34m(\u001b[0m\u001b[0;34m[\u001b[0m\u001b[0;36m270\u001b[0m\u001b[0;34m,\u001b[0m \u001b[0;36m480\u001b[0m\u001b[0;34m]\u001b[0m\u001b[0;34m)\u001b[0m\u001b[0;34m\u001b[0m\u001b[0;34m\u001b[0m\u001b[0m\n\u001b[0;32m---> 23\u001b[0;31m             \u001b[0mtopleft_y\u001b[0m \u001b[0;34m=\u001b[0m  \u001b[0mbbox\u001b[0m\u001b[0;34m[\u001b[0m\u001b[0mi\u001b[0m\u001b[0;34m]\u001b[0m\u001b[0;34m[\u001b[0m\u001b[0;36m1\u001b[0m\u001b[0;34m]\u001b[0m\u001b[0;34m.\u001b[0m\u001b[0mitem\u001b[0m\u001b[0;34m(\u001b[0m\u001b[0;34m)\u001b[0m\u001b[0;34m\u001b[0m\u001b[0;34m\u001b[0m\u001b[0m\n\u001b[0m\u001b[1;32m     24\u001b[0m             \u001b[0mtopleft_x\u001b[0m \u001b[0;34m=\u001b[0m \u001b[0mbbox\u001b[0m\u001b[0;34m[\u001b[0m\u001b[0mi\u001b[0m\u001b[0;34m]\u001b[0m\u001b[0;34m[\u001b[0m\u001b[0;36m0\u001b[0m\u001b[0;34m]\u001b[0m\u001b[0;34m.\u001b[0m\u001b[0mitem\u001b[0m\u001b[0;34m(\u001b[0m\u001b[0;34m)\u001b[0m\u001b[0;34m\u001b[0m\u001b[0;34m\u001b[0m\u001b[0m\n\u001b[1;32m     25\u001b[0m             \u001b[0mbottright_y\u001b[0m \u001b[0;34m=\u001b[0m \u001b[0mbbox\u001b[0m\u001b[0;34m[\u001b[0m\u001b[0mi\u001b[0m\u001b[0;34m]\u001b[0m\u001b[0;34m[\u001b[0m\u001b[0;36m3\u001b[0m\u001b[0;34m]\u001b[0m\u001b[0;34m.\u001b[0m\u001b[0mitem\u001b[0m\u001b[0;34m(\u001b[0m\u001b[0;34m)\u001b[0m\u001b[0;34m\u001b[0m\u001b[0;34m\u001b[0m\u001b[0m\n",
      "\u001b[0;31mIndexError\u001b[0m: index 1 is out of bounds for dimension 0 with size 1"
     ]
    }
   ],
   "source": [
    "'''counter = 0\n",
    "avg_tp_pixels = 0\n",
    "avg_tn_pixels = 0\n",
    "avg_fp_pixels = 0\n",
    "avg_fn_pixels = 0\n",
    "avg_f1 = 0\n",
    "avg_acc = 0\n",
    "avg_positive_pixels = 0\n",
    "avg_negative_pixels = 0'''\n",
    "avg_IoU = 0\n",
    "\n",
    "for i, d in enumerate(test_iterator, 0):\n",
    "    inputs, labels,fnames = d[0].cpu(), d[1].cpu(),d[2]\n",
    "    outputs = model(inputs)\n",
    "    outputs = Bbox_to_arr(outputs).cpu()\n",
    "    labels = Bbox_to_arr(labels).cpu()\n",
    "    #print(np.amin(outputs.cpu().detach().numpy()),np.amin(labels.cpu().detach().numpy()))\n",
    "    for j in range(len(inputs)):\n",
    "        IoU = criterion(labels[j][:][:][:],outputs[j][:][:][:])\n",
    "        if not math.isnan(IoU.item()):\n",
    "            avg_IoU += IoU.item()\n",
    "            counter += 1\n",
    "        \n",
    "        '''f1_loc = f1(labels[j][:][:][:],outputs[j][0][:][:])\n",
    "        tp_loc = tp_pixels(labels[j][0][:][:],outputs[j][0][:][:]).item()\n",
    "        tn_loc = tn_pixels(labels[j][0][:][:],outputs[j][0][:][:]).item()\n",
    "        fp_loc = fp_pixels(labels[j][0][:][:],outputs[j][0][:][:]).item()\n",
    "        fn_loc = fn_pixels(labels[j][0][:][:],outputs[j][0][:][:]).item()\n",
    "        acc_loc = (tp_loc + tn_loc)/(tp_loc + tn_loc + fp_loc + fn_loc)\n",
    "        \n",
    "        if not math.isnan(f1_loc) and not math.isnan(acc_loc): \n",
    "            avg_acc += acc_loc\n",
    "            avg_f1 += f1_loc\n",
    "            avg_tp_pixels += tp_loc\n",
    "            avg_fp_pixels += fp_loc\n",
    "            avg_tn_pixels += tn_loc\n",
    "            avg_fn_pixels += fn_loc\n",
    "            avg_positive_pixels += torch.count_nonzero(labels[j][0][:][:])\n",
    "            avg_negative_pixels += (129600 - torch.count_nonzero(labels[j][0][:][:]))\n",
    "            counter += 1 '''\n",
    "        \n",
    "        \n",
    "    if i%10 == 0:\n",
    "        print(\"Checkpoint\",i)\n",
    "        \n",
    "        \n",
    "'''avg_acc = avg_acc/counter           \n",
    "avg_f1 = avg_f1/counter\n",
    "avg_tp_pixels = avg_tp_pixels/counter\n",
    "avg_fp_pixels = avg_fp_pixels/counter\n",
    "avg_tn_pixels = avg_tn_pixels/counter\n",
    "avg_fn_pixels = avg_fn_pixels/counter\n",
    "avg_positive_pixels =avg_positive_pixels/counter\n",
    "avg_negative_pixels = avg_negative_pixels/counter\n",
    "print(avg_tp_pixels,avg_fp_pixels,avg_tn_pixels,avg_fn_pixels)\n",
    "print(avg_acc,avg_f1)'''\n",
    "avg_IoU = avg_IoU/counter\n",
    "print(avg_IoU)"
   ]
  },
  {
   "cell_type": "code",
   "execution_count": 12,
   "metadata": {},
   "outputs": [
    {
     "name": "stdout",
     "output_type": "stream",
     "text": [
      "0.9977689434603679 1.871420501450561e-05\n"
     ]
    },
    {
     "name": "stderr",
     "output_type": "stream",
     "text": [
      "/opt/conda/envs/lain_new/lib/python3.7/site-packages/ipykernel_launcher.py:6: MatplotlibDeprecationWarning: Case-insensitive properties were deprecated in 3.3 and support will be removed two minor releases later\n",
      "  \n",
      "/opt/conda/envs/lain_new/lib/python3.7/site-packages/ipykernel_launcher.py:12: MatplotlibDeprecationWarning: Case-insensitive properties were deprecated in 3.3 and support will be removed two minor releases later\n",
      "  if sys.path[0] == '':\n"
     ]
    },
    {
     "data": {
      "image/png": "[encoded data removed]",
      "text/plain": [
       "<Figure size 576x576 with 2 Axes>"
      ]
     },
     "metadata": {
      "needs_background": "light"
     },
     "output_type": "display_data"
    },
    {
     "data": {
      "image/png": "[encoded data removed]",
      "text/plain": [
       "<Figure size 576x576 with 2 Axes>"
      ]
     },
     "metadata": {
      "needs_background": "light"
     },
     "output_type": "display_data"
    }
   ],
   "source": [
    "anp = avg_tp_pixels+avg_fp_pixels+avg_tn_pixels+avg_fn_pixels\n",
    "CM = [[round(avg_tn_pixels/avg_negative_pixels.item(),2),round(avg_fp_pixels/avg_negative_pixels.item(),2)],[round(avg_fn_pixels/avg_positive_pixels.item(),2),round(avg_tp_pixels/avg_positive_pixels.item(),2)]]\n",
    "X_labels = ['Predicted empty', 'Predicted ball']\n",
    "Y_labels = ['Ground truth empty', 'Ground truth ball']\n",
    "plt.figure(figsize = (8,8))\n",
    "sns.heatmap(CM,xticklabels=X_labels, yticklabels=Y_labels,annot=True).set(Title = 'Corrected confusion matrix,sequential net')\n",
    "\n",
    "CM = [[round(avg_tn_pixels/anp,2),round(avg_fp_pixels/anp,2)],[round(avg_fn_pixels/anp,2),round(avg_tp_pixels/anp,2)]]\n",
    "X_labels = ['Predicted empty', 'Predicted ball']\n",
    "Y_labels = ['Ground truth empty', 'Ground truth ball']\n",
    "plt.figure(figsize = (8,8))\n",
    "sns.heatmap(CM,xticklabels=X_labels, yticklabels=Y_labels,annot=True).set(Title = 'Confusion matrix,sequential net')\n",
    "print(avg_acc,avg_f1)"
   ]
  },
  {
   "cell_type": "markdown",
   "metadata": {},
   "source": [
    "# Evaluation of the U-net"
   ]
  },
  {
   "cell_type": "code",
   "execution_count": 13,
   "metadata": {},
   "outputs": [
    {
     "data": {
      "text/plain": [
       "{'UNet': {'in_channels': 3, 'out_channels': 1, 'n_blocks': 2, 'start_filters': 32, 'activation': 'relu', 'normalization': 'batch', 'conv_mode': 'same', 'dim': 2, 'up_mode': 'transposed'}}"
      ]
     },
     "execution_count": 13,
     "metadata": {},
     "output_type": "execute_result"
    }
   ],
   "source": [
    "test_ds = dataset_with_mask(folder,test_json)\n",
    "test_iterator = data.DataLoader(test_ds, \n",
    "                                batch_size = 8)\n",
    "\n",
    "model = UNet(in_channels=3,\n",
    "             out_channels=1,\n",
    "             n_blocks=2,\n",
    "             start_filters=32,\n",
    "             activation='relu',\n",
    "             normalization='batch',\n",
    "             conv_mode='same',\n",
    "             dim=2)\n",
    "model.load_state_dict(torch.load('top_results/otf_model_net_epoch41_loss=0.4606550086411276.pt'))\n",
    "model.to('cpu')\n",
    "model.eval()"
   ]
  },
  {
   "cell_type": "code",
   "execution_count": 14,
   "metadata": {},
   "outputs": [
    {
     "name": "stdout",
     "output_type": "stream",
     "text": [
      "Checkpoint 0\n",
      "Checkpoint 10\n",
      "Checkpoint 20\n",
      "Checkpoint 30\n",
      "Checkpoint 40\n",
      "Checkpoint 50\n",
      "Checkpoint 60\n",
      "Checkpoint 70\n",
      "Checkpoint 80\n",
      "Checkpoint 90\n",
      "Checkpoint 100\n",
      "Checkpoint 110\n",
      "Checkpoint 120\n",
      "Checkpoint 130\n",
      "Checkpoint 140\n",
      "92.72300469483568 35.667605633802815 129420.23849765258 51.370892018779344\n",
      "144.22547912597656 129577.4609375\n"
     ]
    }
   ],
   "source": [
    "'''counter = 0\n",
    "avg_tp_pixels = 0\n",
    "avg_tn_pixels = 0\n",
    "avg_fp_pixels = 0\n",
    "avg_fn_pixels = 0\n",
    "avg_f1 = 0\n",
    "avg_acc = 0'''\n",
    "avg_IoU = 0\n",
    "\n",
    "\n",
    "for i, d in enumerate(test_iterator, 0):\n",
    "    inputs, labels,fnames = d[0].cpu(), d[1].cpu(),d[2]\n",
    "    outputs = model(inputs)\n",
    "    outputs[outputs<0.15] = 0\n",
    "    outputs[outputs>0.15] = 1\n",
    "    #evaluation(labels,outputs,0.5)\n",
    "    for j in range(len(inputs)):\n",
    "        IoU = criterion(labels[j][:][:][:],outputs[j][:][:][:])\n",
    "        if not math.isnan(IoU.item()):\n",
    "            avg_IoU += IoU.item()\n",
    "            counter += 1\n",
    "        \n",
    "        '''f1_loc = f1(labels[j][:][:][:],outputs[j][0][:][:])\n",
    "        tp_loc = tp_pixels(labels[j][0][:][:],outputs[j][0][:][:]).item()\n",
    "        tn_loc = tn_pixels(labels[j][0][:][:],outputs[j][0][:][:]).item()\n",
    "        fp_loc = fp_pixels(labels[j][0][:][:],outputs[j][0][:][:]).item()\n",
    "        fn_loc = fn_pixels(labels[j][0][:][:],outputs[j][0][:][:]).item()\n",
    "        acc_loc = (tp_loc + tn_loc)/(tp_loc + tn_loc + fp_loc + fn_loc)\n",
    "        if not math.isnan(f1_loc) and not math.isnan(acc_loc):  \n",
    "            avg_acc += acc_loc\n",
    "            avg_f1 += f1_loc\n",
    "            avg_tp_pixels += tp_loc\n",
    "            avg_fp_pixels += fp_loc\n",
    "            avg_tn_pixels += tn_loc\n",
    "            avg_fn_pixels += fn_loc\n",
    "            counter += 1  \n",
    "            avg_positive_pixels += torch.count_nonzero(labels[j][0][:][:])\n",
    "            avg_negative_pixels += (129600 - torch.count_nonzero(labels[j][0][:][:]))'''\n",
    "        \n",
    "        \n",
    "    if i%10 == 0:\n",
    "        print(\"Checkpoint\",i)\n",
    "        \n",
    "        \n",
    "'''avg_acc = avg_acc/counter           \n",
    "avg_f1 = avg_f1/counter\n",
    "avg_tp_pixels = avg_tp_pixels/counter\n",
    "avg_fp_pixels = avg_fp_pixels/counter\n",
    "avg_tn_pixels = avg_tn_pixels/counter\n",
    "avg_fn_pixels = avg_fn_pixels/counter\n",
    "avg_positive_pixels =(avg_positive_pixels/counter).item()\n",
    "avg_negative_pixels = (avg_negative_pixels/counter).item()\n",
    "print(avg_tp_pixels,avg_fp_pixels,avg_tn_pixels,avg_fn_pixels)\n",
    "print(avg_positive_pixels,avg_negative_pixels)'''\n",
    "avg_IoU = avg_IoU/counter\n",
    "print(avg_IoU)"
   ]
  },
  {
   "cell_type": "code",
   "execution_count": 16,
   "metadata": {},
   "outputs": [
    {
     "name": "stdout",
     "output_type": "stream",
     "text": [
      "0.999328406653916 0.0005350157419187115\n"
     ]
    },
    {
     "name": "stderr",
     "output_type": "stream",
     "text": [
      "/opt/conda/envs/lain_new/lib/python3.7/site-packages/ipykernel_launcher.py:6: MatplotlibDeprecationWarning: Case-insensitive properties were deprecated in 3.3 and support will be removed two minor releases later\n",
      "  \n",
      "/opt/conda/envs/lain_new/lib/python3.7/site-packages/ipykernel_launcher.py:12: MatplotlibDeprecationWarning: Case-insensitive properties were deprecated in 3.3 and support will be removed two minor releases later\n",
      "  if sys.path[0] == '':\n"
     ]
    },
    {
     "data": {
      "image/png": "[encoded data removed]",
      "text/plain": [
       "<Figure size 576x576 with 2 Axes>"
      ]
     },
     "metadata": {
      "needs_background": "light"
     },
     "output_type": "display_data"
    },
    {
     "data": {
      "image/png": "[encoded data removed]",
      "text/plain": [
       "<Figure size 576x576 with 2 Axes>"
      ]
     },
     "metadata": {
      "needs_background": "light"
     },
     "output_type": "display_data"
    }
   ],
   "source": [
    "anp = avg_tp_pixels+avg_fp_pixels+avg_tn_pixels+avg_fn_pixels\n",
    "CM = [[round(avg_tn_pixels/avg_negative_pixels,2),round(avg_fp_pixels/avg_negative_pixels,2)],[round(avg_fn_pixels/avg_positive_pixels,2),round(avg_tp_pixels/avg_positive_pixels,2)]]\n",
    "X_labels = ['Predicted empty', 'Predicted ball']\n",
    "Y_labels = ['Ground truth empty', 'Ground truth ball']\n",
    "plt.figure(figsize = (8,8))\n",
    "sns.heatmap(CM,xticklabels=X_labels, yticklabels=Y_labels,annot=True).set(Title = 'Corrected confusion matrix,U-net')\n",
    "\n",
    "CM = [[round(avg_tn_pixels/anp,2),round(avg_fp_pixels/anp,2)],[round(avg_fn_pixels/anp,2),round(avg_tp_pixels/anp,2)]]\n",
    "X_labels = ['Predicted empty', 'Predicted ball']\n",
    "Y_labels = ['Ground truth empty', 'Ground truth ball']\n",
    "plt.figure(figsize = (8,8))\n",
    "sns.heatmap(CM,xticklabels=X_labels, yticklabels=Y_labels,annot=True).set(Title = 'Confusion matrix,U-net')\n",
    "print(avg_acc,avg_f1)"
   ]
  },
  {
   "cell_type": "code",
   "execution_count": null,
   "metadata": {},
   "outputs": [],
   "source": []
  }
 ],
 "metadata": {
  "kernelspec": {
   "display_name": "lain_new",
   "language": "python",
   "name": "lain_new"
  },
  "language_info": {
   "codemirror_mode": {
    "name": "ipython",
    "version": 3
   },
   "file_extension": ".py",
   "mimetype": "text/x-python",
   "name": "python",
   "nbconvert_exporter": "python",
   "pygments_lexer": "ipython3",
   "version": "3.7.8"
  }
 },
 "nbformat": 4,
 "nbformat_minor": 4
}
